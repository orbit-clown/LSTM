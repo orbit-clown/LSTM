{
 "cells": [
  {
   "cell_type": "code",
   "execution_count": 2,
   "id": "27e86681",
   "metadata": {},
   "outputs": [],
   "source": [
    "import numpy as np\n",
    "from tensorflow.keras.models import Sequential\n",
    "from tensorflow.keras.layers import LSTM\n",
    "from tensorflow.keras.layers import Dense, Dropout\n",
    "import pandas as pd\n",
    "from matplotlib import pyplot as plt\n",
    "from sklearn.preprocessing import MinMaxScaler\n",
    "import seaborn as sns"
   ]
  },
  {
   "cell_type": "code",
   "execution_count": 3,
   "id": "59a416cd",
   "metadata": {},
   "outputs": [],
   "source": [
    "df=pd.read_csv(\"train.csv\",parse_dates=[\"Date\"],index_col=[0])"
   ]
  },
  {
   "cell_type": "code",
   "execution_count": 4,
   "id": "ab54faea",
   "metadata": {},
   "outputs": [
    {
     "name": "stdout",
     "output_type": "stream",
     "text": [
      "None\n"
     ]
    }
   ],
   "source": [
    "print(df.index.freq)"
   ]
  },
  {
   "cell_type": "code",
   "execution_count": 5,
   "id": "9d69a828",
   "metadata": {},
   "outputs": [
    {
     "data": {
      "text/plain": [
       "(5203, 5)"
      ]
     },
     "execution_count": 5,
     "metadata": {},
     "output_type": "execute_result"
    }
   ],
   "source": [
    "df.shape"
   ]
  },
  {
   "cell_type": "code",
   "execution_count": 6,
   "id": "1fe6f18e",
   "metadata": {},
   "outputs": [
    {
     "data": {
      "text/html": [
       "<div>\n",
       "<style scoped>\n",
       "    .dataframe tbody tr th:only-of-type {\n",
       "        vertical-align: middle;\n",
       "    }\n",
       "\n",
       "    .dataframe tbody tr th {\n",
       "        vertical-align: top;\n",
       "    }\n",
       "\n",
       "    .dataframe thead th {\n",
       "        text-align: right;\n",
       "    }\n",
       "</style>\n",
       "<table border=\"1\" class=\"dataframe\">\n",
       "  <thead>\n",
       "    <tr style=\"text-align: right;\">\n",
       "      <th></th>\n",
       "      <th>Open</th>\n",
       "      <th>High</th>\n",
       "      <th>Low</th>\n",
       "      <th>Close</th>\n",
       "      <th>Adj Close</th>\n",
       "    </tr>\n",
       "    <tr>\n",
       "      <th>Date</th>\n",
       "      <th></th>\n",
       "      <th></th>\n",
       "      <th></th>\n",
       "      <th></th>\n",
       "      <th></th>\n",
       "    </tr>\n",
       "  </thead>\n",
       "  <tbody>\n",
       "    <tr>\n",
       "      <th>2001-01-25</th>\n",
       "      <td>356.730774</td>\n",
       "      <td>362.980774</td>\n",
       "      <td>352.403839</td>\n",
       "      <td>353.365387</td>\n",
       "      <td>197.122452</td>\n",
       "    </tr>\n",
       "    <tr>\n",
       "      <th>2001-01-26</th>\n",
       "      <td>357.211548</td>\n",
       "      <td>360.096161</td>\n",
       "      <td>342.788452</td>\n",
       "      <td>343.269226</td>\n",
       "      <td>191.490234</td>\n",
       "    </tr>\n",
       "    <tr>\n",
       "      <th>2001-01-29</th>\n",
       "      <td>345.153839</td>\n",
       "      <td>355.769226</td>\n",
       "      <td>338.461548</td>\n",
       "      <td>341.384613</td>\n",
       "      <td>190.439011</td>\n",
       "    </tr>\n",
       "    <tr>\n",
       "      <th>2001-01-30</th>\n",
       "      <td>344.307678</td>\n",
       "      <td>355.923065</td>\n",
       "      <td>341.692322</td>\n",
       "      <td>355.769226</td>\n",
       "      <td>198.463318</td>\n",
       "    </tr>\n",
       "    <tr>\n",
       "      <th>2001-01-31</th>\n",
       "      <td>359.615387</td>\n",
       "      <td>361.153839</td>\n",
       "      <td>350.461548</td>\n",
       "      <td>353.692322</td>\n",
       "      <td>197.304749</td>\n",
       "    </tr>\n",
       "  </tbody>\n",
       "</table>\n",
       "</div>"
      ],
      "text/plain": [
       "                  Open        High         Low       Close   Adj Close\n",
       "Date                                                                  \n",
       "2001-01-25  356.730774  362.980774  352.403839  353.365387  197.122452\n",
       "2001-01-26  357.211548  360.096161  342.788452  343.269226  191.490234\n",
       "2001-01-29  345.153839  355.769226  338.461548  341.384613  190.439011\n",
       "2001-01-30  344.307678  355.923065  341.692322  355.769226  198.463318\n",
       "2001-01-31  359.615387  361.153839  350.461548  353.692322  197.304749"
      ]
     },
     "execution_count": 6,
     "metadata": {},
     "output_type": "execute_result"
    }
   ],
   "source": [
    "df.head()"
   ]
  },
  {
   "cell_type": "code",
   "execution_count": 7,
   "id": "750dae9a",
   "metadata": {},
   "outputs": [
    {
     "data": {
      "text/html": [
       "<div>\n",
       "<style scoped>\n",
       "    .dataframe tbody tr th:only-of-type {\n",
       "        vertical-align: middle;\n",
       "    }\n",
       "\n",
       "    .dataframe tbody tr th {\n",
       "        vertical-align: top;\n",
       "    }\n",
       "\n",
       "    .dataframe thead th {\n",
       "        text-align: right;\n",
       "    }\n",
       "</style>\n",
       "<table border=\"1\" class=\"dataframe\">\n",
       "  <thead>\n",
       "    <tr style=\"text-align: right;\">\n",
       "      <th></th>\n",
       "      <th>Open</th>\n",
       "      <th>High</th>\n",
       "      <th>Low</th>\n",
       "      <th>Close</th>\n",
       "      <th>Adj Close</th>\n",
       "    </tr>\n",
       "    <tr>\n",
       "      <th>Date</th>\n",
       "      <th></th>\n",
       "      <th></th>\n",
       "      <th></th>\n",
       "      <th></th>\n",
       "      <th></th>\n",
       "    </tr>\n",
       "  </thead>\n",
       "  <tbody>\n",
       "    <tr>\n",
       "      <th>2021-09-23</th>\n",
       "      <td>99.529999</td>\n",
       "      <td>104.080002</td>\n",
       "      <td>99.519997</td>\n",
       "      <td>102.959999</td>\n",
       "      <td>102.789993</td>\n",
       "    </tr>\n",
       "    <tr>\n",
       "      <th>2021-09-24</th>\n",
       "      <td>102.660004</td>\n",
       "      <td>104.199997</td>\n",
       "      <td>102.599998</td>\n",
       "      <td>103.800003</td>\n",
       "      <td>103.709198</td>\n",
       "    </tr>\n",
       "    <tr>\n",
       "      <th>2021-09-27</th>\n",
       "      <td>104.550003</td>\n",
       "      <td>106.330002</td>\n",
       "      <td>104.389999</td>\n",
       "      <td>105.349998</td>\n",
       "      <td>105.257835</td>\n",
       "    </tr>\n",
       "    <tr>\n",
       "      <th>2021-09-28</th>\n",
       "      <td>105.290001</td>\n",
       "      <td>106.750000</td>\n",
       "      <td>104.730003</td>\n",
       "      <td>105.730003</td>\n",
       "      <td>105.637512</td>\n",
       "    </tr>\n",
       "    <tr>\n",
       "      <th>2021-09-29</th>\n",
       "      <td>106.000000</td>\n",
       "      <td>107.000000</td>\n",
       "      <td>105.309998</td>\n",
       "      <td>106.279999</td>\n",
       "      <td>106.187027</td>\n",
       "    </tr>\n",
       "  </tbody>\n",
       "</table>\n",
       "</div>"
      ],
      "text/plain": [
       "                  Open        High         Low       Close   Adj Close\n",
       "Date                                                                  \n",
       "2021-09-23   99.529999  104.080002   99.519997  102.959999  102.789993\n",
       "2021-09-24  102.660004  104.199997  102.599998  103.800003  103.709198\n",
       "2021-09-27  104.550003  106.330002  104.389999  105.349998  105.257835\n",
       "2021-09-28  105.290001  106.750000  104.730003  105.730003  105.637512\n",
       "2021-09-29  106.000000  107.000000  105.309998  106.279999  106.187027"
      ]
     },
     "execution_count": 7,
     "metadata": {},
     "output_type": "execute_result"
    }
   ],
   "source": [
    "df.tail()"
   ]
  },
  {
   "cell_type": "code",
   "execution_count": 8,
   "id": "9f685196",
   "metadata": {},
   "outputs": [],
   "source": [
    "test_split=round(len(df)*0.20)"
   ]
  },
  {
   "cell_type": "code",
   "execution_count": 9,
   "id": "c435d2e4",
   "metadata": {},
   "outputs": [
    {
     "data": {
      "text/plain": [
       "1041"
      ]
     },
     "execution_count": 9,
     "metadata": {},
     "output_type": "execute_result"
    }
   ],
   "source": [
    "test_split"
   ]
  },
  {
   "cell_type": "code",
   "execution_count": 10,
   "id": "6815e6cf",
   "metadata": {},
   "outputs": [],
   "source": [
    "df_for_training=df[:-1041]\n",
    "df_for_testing=df[-1041:]"
   ]
  },
  {
   "cell_type": "code",
   "execution_count": 11,
   "id": "164f3e06",
   "metadata": {},
   "outputs": [
    {
     "name": "stdout",
     "output_type": "stream",
     "text": [
      "(4162, 5)\n",
      "(1041, 5)\n"
     ]
    }
   ],
   "source": [
    "print(df_for_training.shape)\n",
    "print(df_for_testing.shape)"
   ]
  },
  {
   "cell_type": "code",
   "execution_count": 12,
   "id": "4a86012c",
   "metadata": {},
   "outputs": [],
   "source": [
    "scaler = MinMaxScaler(feature_range=(0,1))\n",
    "df_for_training_scaled = scaler.fit_transform(df_for_training)"
   ]
  },
  {
   "cell_type": "code",
   "execution_count": 13,
   "id": "5697bff5",
   "metadata": {},
   "outputs": [],
   "source": [
    "df_for_testing_scaled=scaler.transform(df_for_testing)"
   ]
  },
  {
   "cell_type": "code",
   "execution_count": 14,
   "id": "d33a6b6e",
   "metadata": {},
   "outputs": [
    {
     "data": {
      "text/plain": [
       "array([[0.85398707, 0.86281807, 0.85292546, 0.8403402 , 0.82180889],\n",
       "       [0.85533406, 0.85473269, 0.82623316, 0.8122593 , 0.79289309],\n",
       "       [0.82155169, 0.84260459, 0.81422168, 0.80701755, 0.78749611],\n",
       "       ...,\n",
       "       [0.40689652, 0.40362224, 0.41960282, 0.40436458, 0.7632948 ],\n",
       "       [0.40517242, 0.39995691, 0.41832161, 0.4075738 , 0.76889077],\n",
       "       [0.40862067, 0.39974127, 0.41426436, 0.39880189, 0.75359571]])"
      ]
     },
     "execution_count": 14,
     "metadata": {},
     "output_type": "execute_result"
    }
   ],
   "source": [
    "df_for_training_scaled"
   ]
  },
  {
   "cell_type": "code",
   "execution_count": 15,
   "id": "03b668b1",
   "metadata": {},
   "outputs": [
    {
     "data": {
      "text/plain": [
       "(4162, 5)"
      ]
     },
     "execution_count": 15,
     "metadata": {},
     "output_type": "execute_result"
    }
   ],
   "source": [
    "df_for_training_scaled.shape"
   ]
  },
  {
   "cell_type": "code",
   "execution_count": 16,
   "id": "88390259",
   "metadata": {},
   "outputs": [
    {
     "data": {
      "text/plain": [
       "(1041, 5)"
      ]
     },
     "execution_count": 16,
     "metadata": {},
     "output_type": "execute_result"
    }
   ],
   "source": [
    "df_for_testing_scaled.shape"
   ]
  },
  {
   "cell_type": "code",
   "execution_count": 17,
   "id": "b6a58026",
   "metadata": {},
   "outputs": [],
   "source": [
    "def createXY(dataset,n_past):\n",
    "    dataX = []\n",
    "    dataY = []\n",
    "    for i in range(n_past, len(dataset)):\n",
    "            dataX.append(dataset[i - n_past:i, 0:dataset.shape[1]])\n",
    "            dataY.append(dataset[i,0])\n",
    "    return np.array(dataX),np.array(dataY)        "
   ]
  },
  {
   "cell_type": "code",
   "execution_count": 18,
   "id": "18b62d65",
   "metadata": {},
   "outputs": [],
   "source": [
    "trainX,trainY=createXY(df_for_training_scaled,30)"
   ]
  },
  {
   "cell_type": "code",
   "execution_count": 19,
   "id": "8d694c12",
   "metadata": {},
   "outputs": [
    {
     "data": {
      "text/plain": [
       "(4132, 30, 5)"
      ]
     },
     "execution_count": 19,
     "metadata": {},
     "output_type": "execute_result"
    }
   ],
   "source": [
    "trainX.shape"
   ]
  },
  {
   "cell_type": "code",
   "execution_count": null,
   "id": "2795bf2a",
   "metadata": {},
   "outputs": [],
   "source": []
  },
  {
   "cell_type": "code",
   "execution_count": 20,
   "id": "184bfdb6",
   "metadata": {},
   "outputs": [],
   "source": [
    "testX,testY=createXY(df_for_testing_scaled,30)"
   ]
  },
  {
   "cell_type": "code",
   "execution_count": 60,
   "id": "45cd8b23",
   "metadata": {},
   "outputs": [
    {
     "data": {
      "text/plain": [
       "array([0.39159482, 0.3965517 , 0.39331896, ..., 0.14744613, 0.1495194 ,\n",
       "       0.15150862])"
      ]
     },
     "execution_count": 60,
     "metadata": {},
     "output_type": "execute_result"
    }
   ],
   "source": [
    "testY"
   ]
  },
  {
   "cell_type": "code",
   "execution_count": 21,
   "id": "5e77d396",
   "metadata": {},
   "outputs": [
    {
     "data": {
      "text/plain": [
       "array([[0.85398707, 0.86281807, 0.85292546, 0.8403402 , 0.82180889],\n",
       "       [0.85533406, 0.85473269, 0.82623316, 0.8122593 , 0.79289309],\n",
       "       [0.82155169, 0.84260459, 0.81422168, 0.80701755, 0.78749611],\n",
       "       [0.81918098, 0.84303579, 0.82319031, 0.8470261 , 0.8286929 ],\n",
       "       [0.86206895, 0.85769729, 0.84753366, 0.84124952, 0.8227448 ],\n",
       "       [0.85668106, 0.85295391, 0.85479397, 0.84659822, 0.82825271],\n",
       "       [0.85129307, 0.85661925, 0.85372629, 0.84766796, 0.82935384],\n",
       "       [0.8540948 , 0.88249248, 0.85799703, 0.88125807, 0.86394198],\n",
       "       [0.88577588, 0.88227684, 0.88255396, 0.87590928, 0.85843431],\n",
       "       [0.88189657, 0.87602422, 0.87016871, 0.86200256, 0.84411479],\n",
       "       [0.88362063, 0.88357053, 0.87892376, 0.86606763, 0.84829995],\n",
       "       [0.87047413, 0.86200956, 0.84390347, 0.8344031 , 0.81569511],\n",
       "       [0.83857758, 0.87645542, 0.84966903, 0.87398378, 0.85645156],\n",
       "       [0.88168102, 0.88012075, 0.88105913, 0.86649551, 0.84874037],\n",
       "       [0.87090514, 0.86287196, 0.85949177, 0.84724008, 0.82891342],\n",
       "       [0.85237065, 0.88249248, 0.8601324 , 0.88403941, 0.86680588],\n",
       "       [0.85668106, 0.86589053, 0.86248134, 0.8630723 , 0.84521599],\n",
       "       [0.87176726, 0.8870203 , 0.88191333, 0.87783486, 0.86041721],\n",
       "       [0.88254305, 0.89003888, 0.88298101, 0.86949083, 0.85182511],\n",
       "       [0.875     , 0.86955587, 0.85821051, 0.86521178, 0.84741896],\n",
       "       [0.85775864, 0.85877534, 0.83600253, 0.84552848, 0.82715127],\n",
       "       [0.86745685, 0.88055195, 0.86120008, 0.88403941, 0.86680588],\n",
       "       [0.87780172, 0.88033639, 0.87828313, 0.88446729, 0.86724607],\n",
       "       [0.88900862, 0.88551106, 0.84838778, 0.85237489, 0.83420073],\n",
       "       [0.83512929, 0.83872361, 0.83365367, 0.83975181, 0.82120263],\n",
       "       [0.83189656, 0.82988361, 0.82532568, 0.81108261, 0.79168158],\n",
       "       [0.81896551, 0.82341526, 0.82703399, 0.82199401, 0.80649534],\n",
       "       [0.85129307, 0.85015098, 0.84240872, 0.8292683 , 0.81401255],\n",
       "       [0.83448273, 0.84282023, 0.84561178, 0.84124952, 0.82639405],\n",
       "       [0.84913791, 0.84497632, 0.83557547, 0.83889605, 0.82396218]])"
      ]
     },
     "execution_count": 21,
     "metadata": {},
     "output_type": "execute_result"
    }
   ],
   "source": [
    "trainX[0]"
   ]
  },
  {
   "cell_type": "code",
   "execution_count": 22,
   "id": "bdaf6a49",
   "metadata": {},
   "outputs": [
    {
     "name": "stdout",
     "output_type": "stream",
     "text": [
      "trainX Shape--  (4132, 30, 5)\n",
      "trainY Shape--  (4132,)\n"
     ]
    }
   ],
   "source": [
    "print(\"trainX Shape-- \",trainX.shape)\n",
    "print(\"trainY Shape-- \",trainY.shape)"
   ]
  },
  {
   "cell_type": "code",
   "execution_count": 23,
   "id": "0c78e7db",
   "metadata": {},
   "outputs": [
    {
     "name": "stdout",
     "output_type": "stream",
     "text": [
      "testX Shape--  (1011, 30, 5)\n",
      "testY Shape--  (1011,)\n"
     ]
    }
   ],
   "source": [
    "print(\"testX Shape-- \",testX.shape)\n",
    "print(\"testY Shape-- \",testY.shape)"
   ]
  },
  {
   "cell_type": "code",
   "execution_count": 24,
   "id": "cbf9d2df",
   "metadata": {},
   "outputs": [
    {
     "name": "stdout",
     "output_type": "stream",
     "text": [
      "trainX[0]-- \n",
      " [[0.85398707 0.86281807 0.85292546 0.8403402  0.82180889]\n",
      " [0.85533406 0.85473269 0.82623316 0.8122593  0.79289309]\n",
      " [0.82155169 0.84260459 0.81422168 0.80701755 0.78749611]\n",
      " [0.81918098 0.84303579 0.82319031 0.8470261  0.8286929 ]\n",
      " [0.86206895 0.85769729 0.84753366 0.84124952 0.8227448 ]\n",
      " [0.85668106 0.85295391 0.85479397 0.84659822 0.82825271]\n",
      " [0.85129307 0.85661925 0.85372629 0.84766796 0.82935384]\n",
      " [0.8540948  0.88249248 0.85799703 0.88125807 0.86394198]\n",
      " [0.88577588 0.88227684 0.88255396 0.87590928 0.85843431]\n",
      " [0.88189657 0.87602422 0.87016871 0.86200256 0.84411479]\n",
      " [0.88362063 0.88357053 0.87892376 0.86606763 0.84829995]\n",
      " [0.87047413 0.86200956 0.84390347 0.8344031  0.81569511]\n",
      " [0.83857758 0.87645542 0.84966903 0.87398378 0.85645156]\n",
      " [0.88168102 0.88012075 0.88105913 0.86649551 0.84874037]\n",
      " [0.87090514 0.86287196 0.85949177 0.84724008 0.82891342]\n",
      " [0.85237065 0.88249248 0.8601324  0.88403941 0.86680588]\n",
      " [0.85668106 0.86589053 0.86248134 0.8630723  0.84521599]\n",
      " [0.87176726 0.8870203  0.88191333 0.87783486 0.86041721]\n",
      " [0.88254305 0.89003888 0.88298101 0.86949083 0.85182511]\n",
      " [0.875      0.86955587 0.85821051 0.86521178 0.84741896]\n",
      " [0.85775864 0.85877534 0.83600253 0.84552848 0.82715127]\n",
      " [0.86745685 0.88055195 0.86120008 0.88403941 0.86680588]\n",
      " [0.87780172 0.88033639 0.87828313 0.88446729 0.86724607]\n",
      " [0.88900862 0.88551106 0.84838778 0.85237489 0.83420073]\n",
      " [0.83512929 0.83872361 0.83365367 0.83975181 0.82120263]\n",
      " [0.83189656 0.82988361 0.82532568 0.81108261 0.79168158]\n",
      " [0.81896551 0.82341526 0.82703399 0.82199401 0.80649534]\n",
      " [0.85129307 0.85015098 0.84240872 0.8292683  0.81401255]\n",
      " [0.83448273 0.84282023 0.84561178 0.84124952 0.82639405]\n",
      " [0.84913791 0.84497632 0.83557547 0.83889605 0.82396218]]\n",
      "\n",
      "trainY[0]--  0.8297413960482309\n"
     ]
    }
   ],
   "source": [
    "print(\"trainX[0]-- \\n\",trainX[0])\n",
    "print(\"\\ntrainY[0]-- \",trainY[0])"
   ]
  },
  {
   "cell_type": "code",
   "execution_count": 25,
   "id": "a5892e85",
   "metadata": {},
   "outputs": [
    {
     "data": {
      "text/plain": [
       "0.8297413960482309"
      ]
     },
     "execution_count": 25,
     "metadata": {},
     "output_type": "execute_result"
    }
   ],
   "source": [
    "trainY[0]"
   ]
  },
  {
   "cell_type": "code",
   "execution_count": 26,
   "id": "713712db",
   "metadata": {},
   "outputs": [
    {
     "data": {
      "text/plain": [
       "(4132,)"
      ]
     },
     "execution_count": 26,
     "metadata": {},
     "output_type": "execute_result"
    }
   ],
   "source": [
    "trainY.shape"
   ]
  },
  {
   "cell_type": "code",
   "execution_count": 27,
   "id": "d165e52b",
   "metadata": {},
   "outputs": [],
   "source": [
    "from keras.wrappers.scikit_learn import KerasRegressor\n",
    "from sklearn.model_selection import GridSearchCV"
   ]
  },
  {
   "cell_type": "code",
   "execution_count": 28,
   "id": "42ffe2bf",
   "metadata": {},
   "outputs": [
    {
     "name": "stderr",
     "output_type": "stream",
     "text": [
      "C:\\Users\\86177\\AppData\\Local\\Temp\\ipykernel_17332\\1694479593.py:11: DeprecationWarning: KerasRegressor is deprecated, use Sci-Keras (https://github.com/adriangb/scikeras) instead. See https://www.adriangb.com/scikeras/stable/migration.html for help migrating.\n",
      "  grid_model = KerasRegressor(build_fn=build_model,verbose=1,validation_data=(testX,testY))\n"
     ]
    }
   ],
   "source": [
    "def build_model(optimizer):\n",
    "    grid_model = Sequential()\n",
    "    grid_model.add(LSTM(50,return_sequences=True,input_shape=(30,5)))\n",
    "    grid_model.add(LSTM(50))\n",
    "    grid_model.add(Dropout(0.2))\n",
    "    grid_model.add(Dense(1))\n",
    "\n",
    "    grid_model.compile(loss = 'mse',optimizer = optimizer)\n",
    "    return grid_model\n",
    "\n",
    "grid_model = KerasRegressor(build_fn=build_model,verbose=1,validation_data=(testX,testY))\n",
    "parameters = {'batch_size' : [16,20],\n",
    "              'epochs' : [8,10],\n",
    "              'optimizer' : ['adam','Adadelta'] }\n",
    "\n",
    "grid_search  = GridSearchCV(estimator = grid_model,\n",
    "                            param_grid = parameters,\n",
    "                            cv = 2)"
   ]
  },
  {
   "cell_type": "code",
   "execution_count": 29,
   "id": "1fc54625",
   "metadata": {},
   "outputs": [
    {
     "name": "stdout",
     "output_type": "stream",
     "text": [
      "Epoch 1/8\n",
      "130/130 [==============================] - 16s 33ms/step - loss: 0.0033 - val_loss: 0.0024\n",
      "Epoch 2/8\n",
      "130/130 [==============================] - 3s 21ms/step - loss: 0.0012 - val_loss: 0.0014\n",
      "Epoch 3/8\n",
      "130/130 [==============================] - 3s 20ms/step - loss: 0.0010 - val_loss: 0.0014\n",
      "Epoch 4/8\n",
      "130/130 [==============================] - 3s 22ms/step - loss: 9.2103e-04 - val_loss: 0.0016\n",
      "Epoch 5/8\n",
      "130/130 [==============================] - 3s 21ms/step - loss: 8.1191e-04 - val_loss: 0.0021\n",
      "Epoch 6/8\n",
      "130/130 [==============================] - 3s 23ms/step - loss: 7.2128e-04 - val_loss: 0.0010\n",
      "Epoch 7/8\n",
      "130/130 [==============================] - 3s 21ms/step - loss: 7.2439e-04 - val_loss: 0.0022\n",
      "Epoch 8/8\n",
      "130/130 [==============================] - 3s 21ms/step - loss: 6.9239e-04 - val_loss: 0.0014\n",
      "130/130 [==============================] - 1s 7ms/step - loss: 0.0085\n",
      "Epoch 1/8\n",
      "130/130 [==============================] - 9s 30ms/step - loss: 0.0081 - val_loss: 4.0998e-04\n",
      "Epoch 2/8\n",
      "130/130 [==============================] - 3s 21ms/step - loss: 0.0031 - val_loss: 6.5654e-04\n",
      "Epoch 3/8\n",
      "130/130 [==============================] - 3s 20ms/step - loss: 0.0026 - val_loss: 1.7636e-04\n",
      "Epoch 4/8\n",
      "130/130 [==============================] - 3s 20ms/step - loss: 0.0025 - val_loss: 4.5837e-04\n",
      "Epoch 5/8\n",
      "130/130 [==============================] - 3s 21ms/step - loss: 0.0022 - val_loss: 1.8249e-04\n",
      "Epoch 6/8\n",
      "130/130 [==============================] - 3s 21ms/step - loss: 0.0019 - val_loss: 4.7289e-04\n",
      "Epoch 7/8\n",
      "130/130 [==============================] - 3s 20ms/step - loss: 0.0021 - val_loss: 2.0059e-04\n",
      "Epoch 8/8\n",
      "130/130 [==============================] - 2s 19ms/step - loss: 0.0019 - val_loss: 1.4202e-04\n",
      "130/130 [==============================] - 1s 7ms/step - loss: 9.5826e-05\n",
      "Epoch 1/8\n",
      "130/130 [==============================] - 9s 29ms/step - loss: 0.1044 - val_loss: 0.0127\n",
      "Epoch 2/8\n",
      "130/130 [==============================] - 3s 20ms/step - loss: 0.0905 - val_loss: 0.0104\n",
      "Epoch 3/8\n",
      "130/130 [==============================] - 3s 20ms/step - loss: 0.0769 - val_loss: 0.0083\n",
      "Epoch 4/8\n",
      "130/130 [==============================] - 3s 20ms/step - loss: 0.0650 - val_loss: 0.0064\n",
      "Epoch 5/8\n",
      "130/130 [==============================] - 3s 20ms/step - loss: 0.0546 - val_loss: 0.0048\n",
      "Epoch 6/8\n",
      "130/130 [==============================] - 3s 20ms/step - loss: 0.0437 - val_loss: 0.0034\n",
      "Epoch 7/8\n",
      "130/130 [==============================] - 3s 20ms/step - loss: 0.0350 - val_loss: 0.0023\n",
      "Epoch 8/8\n",
      "130/130 [==============================] - 3s 21ms/step - loss: 0.0263 - val_loss: 0.0015\n",
      "130/130 [==============================] - 1s 7ms/step - loss: 0.0711\n",
      "Epoch 1/8\n",
      "130/130 [==============================] - 8s 30ms/step - loss: 0.2356 - val_loss: 0.0024\n",
      "Epoch 2/8\n",
      "130/130 [==============================] - 3s 20ms/step - loss: 0.2103 - val_loss: 0.0017\n",
      "Epoch 3/8\n",
      "130/130 [==============================] - 3s 20ms/step - loss: 0.1835 - val_loss: 0.0013\n",
      "Epoch 4/8\n",
      "130/130 [==============================] - 3s 21ms/step - loss: 0.1591 - val_loss: 0.0010\n",
      "Epoch 5/8\n",
      "130/130 [==============================] - 3s 21ms/step - loss: 0.1366 - val_loss: 0.0011\n",
      "Epoch 6/8\n",
      "130/130 [==============================] - 3s 20ms/step - loss: 0.1123 - val_loss: 0.0016\n",
      "Epoch 7/8\n",
      "130/130 [==============================] - 3s 21ms/step - loss: 0.0936 - val_loss: 0.0024\n",
      "Epoch 8/8\n",
      "130/130 [==============================] - 3s 20ms/step - loss: 0.0732 - val_loss: 0.0037\n",
      "130/130 [==============================] - 1s 9ms/step - loss: 0.0016\n",
      "Epoch 1/10\n",
      "130/130 [==============================] - 8s 29ms/step - loss: 0.0044 - val_loss: 0.0021\n",
      "Epoch 2/10\n",
      "130/130 [==============================] - 3s 21ms/step - loss: 0.0011 - val_loss: 0.0013\n",
      "Epoch 3/10\n",
      "130/130 [==============================] - 3s 20ms/step - loss: 0.0010 - val_loss: 0.0017\n",
      "Epoch 4/10\n",
      "130/130 [==============================] - 3s 20ms/step - loss: 8.9671e-04 - val_loss: 9.5650e-04\n",
      "Epoch 5/10\n",
      "130/130 [==============================] - 3s 20ms/step - loss: 8.2890e-04 - val_loss: 0.0010\n",
      "Epoch 6/10\n",
      "130/130 [==============================] - 3s 20ms/step - loss: 6.9993e-04 - val_loss: 0.0010\n",
      "Epoch 7/10\n",
      "130/130 [==============================] - 3s 21ms/step - loss: 7.1170e-04 - val_loss: 0.0013\n",
      "Epoch 8/10\n",
      "130/130 [==============================] - 2s 19ms/step - loss: 6.9446e-04 - val_loss: 7.1609e-04\n",
      "Epoch 9/10\n",
      "130/130 [==============================] - 3s 19ms/step - loss: 7.0883e-04 - val_loss: 5.9916e-04\n",
      "Epoch 10/10\n",
      "130/130 [==============================] - 2s 19ms/step - loss: 6.5795e-04 - val_loss: 0.0011\n",
      "130/130 [==============================] - 1s 6ms/step - loss: 0.0056\n",
      "Epoch 1/10\n",
      "130/130 [==============================] - 8s 29ms/step - loss: 0.0103 - val_loss: 0.0012\n",
      "Epoch 2/10\n",
      "130/130 [==============================] - 3s 21ms/step - loss: 0.0032 - val_loss: 8.7482e-04\n",
      "Epoch 3/10\n",
      "130/130 [==============================] - 3s 20ms/step - loss: 0.0026 - val_loss: 3.2029e-04\n",
      "Epoch 4/10\n",
      "130/130 [==============================] - 3s 20ms/step - loss: 0.0024 - val_loss: 1.5030e-04\n",
      "Epoch 5/10\n",
      "130/130 [==============================] - 3s 21ms/step - loss: 0.0023 - val_loss: 2.4040e-04\n",
      "Epoch 6/10\n",
      "130/130 [==============================] - 3s 21ms/step - loss: 0.0021 - val_loss: 5.7114e-04\n",
      "Epoch 7/10\n",
      "130/130 [==============================] - 3s 21ms/step - loss: 0.0021 - val_loss: 1.4804e-04\n",
      "Epoch 8/10\n",
      "130/130 [==============================] - 3s 21ms/step - loss: 0.0021 - val_loss: 1.2605e-04\n",
      "Epoch 9/10\n",
      "130/130 [==============================] - 3s 20ms/step - loss: 0.0019 - val_loss: 1.2674e-04\n",
      "Epoch 10/10\n",
      "130/130 [==============================] - 3s 21ms/step - loss: 0.0017 - val_loss: 1.5711e-04\n",
      "130/130 [==============================] - 1s 8ms/step - loss: 9.6349e-05\n",
      "Epoch 1/10\n",
      "130/130 [==============================] - 8s 29ms/step - loss: 0.0681 - val_loss: 0.0066\n",
      "Epoch 2/10\n",
      "130/130 [==============================] - 3s 21ms/step - loss: 0.0606 - val_loss: 0.0053\n",
      "Epoch 3/10\n",
      "130/130 [==============================] - 3s 20ms/step - loss: 0.0517 - val_loss: 0.0041\n",
      "Epoch 4/10\n",
      "130/130 [==============================] - 3s 21ms/step - loss: 0.0427 - val_loss: 0.0030\n",
      "Epoch 5/10\n",
      "130/130 [==============================] - 3s 23ms/step - loss: 0.0353 - val_loss: 0.0021\n",
      "Epoch 6/10\n",
      "130/130 [==============================] - 3s 21ms/step - loss: 0.0292 - val_loss: 0.0015\n",
      "Epoch 7/10\n",
      "130/130 [==============================] - 3s 21ms/step - loss: 0.0228 - val_loss: 0.0010\n",
      "Epoch 8/10\n",
      "130/130 [==============================] - 3s 21ms/step - loss: 0.0175 - val_loss: 8.3788e-04\n",
      "Epoch 9/10\n",
      "130/130 [==============================] - 3s 21ms/step - loss: 0.0135 - val_loss: 8.3554e-04\n",
      "Epoch 10/10\n",
      "130/130 [==============================] - 3s 21ms/step - loss: 0.0109 - val_loss: 0.0010\n",
      "130/130 [==============================] - 1s 7ms/step - loss: 0.0487\n",
      "Epoch 1/10\n",
      "130/130 [==============================] - 8s 29ms/step - loss: 0.1852 - val_loss: 0.0111\n",
      "Epoch 2/10\n",
      "130/130 [==============================] - 3s 20ms/step - loss: 0.1613 - val_loss: 0.0089\n",
      "Epoch 3/10\n",
      "130/130 [==============================] - 3s 20ms/step - loss: 0.1382 - val_loss: 0.0069\n",
      "Epoch 4/10\n",
      "130/130 [==============================] - 3s 20ms/step - loss: 0.1149 - val_loss: 0.0051\n",
      "Epoch 5/10\n",
      "130/130 [==============================] - 3s 21ms/step - loss: 0.0968 - val_loss: 0.0036\n",
      "Epoch 6/10\n",
      "130/130 [==============================] - 3s 21ms/step - loss: 0.0795 - val_loss: 0.0024\n",
      "Epoch 7/10\n",
      "130/130 [==============================] - 3s 21ms/step - loss: 0.0612 - val_loss: 0.0015\n",
      "Epoch 8/10\n",
      "130/130 [==============================] - 3s 21ms/step - loss: 0.0493 - val_loss: 8.7525e-04\n",
      "Epoch 9/10\n",
      "130/130 [==============================] - 3s 21ms/step - loss: 0.0377 - val_loss: 5.6545e-04\n",
      "Epoch 10/10\n",
      "130/130 [==============================] - 3s 20ms/step - loss: 0.0281 - val_loss: 5.2339e-04\n",
      "130/130 [==============================] - 1s 7ms/step - loss: 0.0043\n",
      "Epoch 1/8\n",
      "104/104 [==============================] - 8s 33ms/step - loss: 0.0084 - val_loss: 0.0024\n",
      "Epoch 2/8\n",
      "104/104 [==============================] - 2s 20ms/step - loss: 0.0012 - val_loss: 0.0022\n",
      "Epoch 3/8\n",
      "104/104 [==============================] - 2s 20ms/step - loss: 0.0011 - val_loss: 0.0022\n",
      "Epoch 4/8\n",
      "104/104 [==============================] - 2s 20ms/step - loss: 0.0010 - val_loss: 0.0016\n",
      "Epoch 5/8\n",
      "104/104 [==============================] - 2s 19ms/step - loss: 8.8827e-04 - val_loss: 0.0014\n",
      "Epoch 6/8\n",
      "104/104 [==============================] - 2s 19ms/step - loss: 9.5792e-04 - val_loss: 0.0011\n",
      "Epoch 7/8\n",
      "104/104 [==============================] - 2s 19ms/step - loss: 7.8591e-04 - val_loss: 8.2353e-04\n",
      "Epoch 8/8\n",
      "104/104 [==============================] - 2s 20ms/step - loss: 7.8811e-04 - val_loss: 0.0013\n",
      "104/104 [==============================] - 1s 7ms/step - loss: 0.0031\n",
      "Epoch 1/8\n",
      "104/104 [==============================] - 8s 31ms/step - loss: 0.0222 - val_loss: 0.0045\n",
      "Epoch 2/8\n",
      "104/104 [==============================] - 2s 20ms/step - loss: 0.0036 - val_loss: 8.2087e-04\n",
      "Epoch 3/8\n",
      "104/104 [==============================] - 2s 20ms/step - loss: 0.0029 - val_loss: 7.4699e-04\n",
      "Epoch 4/8\n",
      "104/104 [==============================] - 2s 19ms/step - loss: 0.0026 - val_loss: 5.7521e-04\n",
      "Epoch 5/8\n",
      "104/104 [==============================] - 2s 20ms/step - loss: 0.0025 - val_loss: 3.0106e-04\n",
      "Epoch 6/8\n",
      "104/104 [==============================] - 2s 20ms/step - loss: 0.0023 - val_loss: 2.8982e-04\n",
      "Epoch 7/8\n",
      "104/104 [==============================] - 2s 20ms/step - loss: 0.0025 - val_loss: 4.9323e-04\n",
      "Epoch 8/8\n",
      "104/104 [==============================] - 2s 20ms/step - loss: 0.0022 - val_loss: 2.4862e-04\n",
      "104/104 [==============================] - 1s 7ms/step - loss: 1.2002e-04\n",
      "Epoch 1/8\n",
      "104/104 [==============================] - 7s 30ms/step - loss: 0.1820 - val_loss: 0.0217\n",
      "Epoch 2/8\n",
      "104/104 [==============================] - 2s 20ms/step - loss: 0.1720 - val_loss: 0.0198\n",
      "Epoch 3/8\n",
      "104/104 [==============================] - 2s 20ms/step - loss: 0.1607 - val_loss: 0.0179\n",
      "Epoch 4/8\n",
      "104/104 [==============================] - 2s 20ms/step - loss: 0.1483 - val_loss: 0.0161\n",
      "Epoch 5/8\n",
      "104/104 [==============================] - 2s 20ms/step - loss: 0.1379 - val_loss: 0.0144\n",
      "Epoch 6/8\n",
      "104/104 [==============================] - 2s 20ms/step - loss: 0.1274 - val_loss: 0.0127\n",
      "Epoch 7/8\n",
      "104/104 [==============================] - 2s 21ms/step - loss: 0.1170 - val_loss: 0.0112\n",
      "Epoch 8/8\n",
      "104/104 [==============================] - 2s 20ms/step - loss: 0.1066 - val_loss: 0.0097\n",
      "104/104 [==============================] - 1s 7ms/step - loss: 0.2977\n",
      "Epoch 1/8\n",
      "104/104 [==============================] - 8s 31ms/step - loss: 0.4437 - val_loss: 0.0243\n",
      "Epoch 2/8\n",
      "104/104 [==============================] - 2s 21ms/step - loss: 0.4172 - val_loss: 0.0220\n",
      "Epoch 3/8\n",
      "104/104 [==============================] - 2s 20ms/step - loss: 0.3917 - val_loss: 0.0197\n",
      "Epoch 4/8\n",
      "104/104 [==============================] - 2s 20ms/step - loss: 0.3652 - val_loss: 0.0174\n",
      "Epoch 5/8\n",
      "104/104 [==============================] - 2s 20ms/step - loss: 0.3419 - val_loss: 0.0152\n",
      "Epoch 6/8\n",
      "104/104 [==============================] - 2s 21ms/step - loss: 0.3153 - val_loss: 0.0130\n",
      "Epoch 7/8\n",
      "104/104 [==============================] - 2s 20ms/step - loss: 0.2900 - val_loss: 0.0109\n",
      "Epoch 8/8\n",
      "104/104 [==============================] - 2s 20ms/step - loss: 0.2620 - val_loss: 0.0089\n",
      "104/104 [==============================] - 1s 7ms/step - loss: 0.0895\n",
      "Epoch 1/10\n",
      "104/104 [==============================] - 7s 31ms/step - loss: 0.0075 - val_loss: 0.0033\n",
      "Epoch 2/10\n",
      "104/104 [==============================] - 2s 20ms/step - loss: 0.0011 - val_loss: 0.0033\n",
      "Epoch 3/10\n",
      "104/104 [==============================] - 2s 20ms/step - loss: 0.0011 - val_loss: 0.0020\n",
      "Epoch 4/10\n",
      "104/104 [==============================] - 2s 20ms/step - loss: 9.7784e-04 - val_loss: 0.0020\n",
      "Epoch 5/10\n",
      "104/104 [==============================] - 2s 20ms/step - loss: 9.4700e-04 - val_loss: 0.0024\n",
      "Epoch 6/10\n",
      "104/104 [==============================] - 2s 20ms/step - loss: 8.7069e-04 - val_loss: 0.0014\n",
      "Epoch 7/10\n",
      "104/104 [==============================] - 2s 19ms/step - loss: 8.1878e-04 - val_loss: 0.0016\n",
      "Epoch 8/10\n",
      "104/104 [==============================] - 2s 20ms/step - loss: 7.6008e-04 - val_loss: 0.0017\n",
      "Epoch 9/10\n",
      "104/104 [==============================] - 2s 20ms/step - loss: 8.3088e-04 - val_loss: 0.0013\n",
      "Epoch 10/10\n",
      "104/104 [==============================] - 2s 20ms/step - loss: 7.3925e-04 - val_loss: 0.0012\n",
      "104/104 [==============================] - 1s 7ms/step - loss: 0.0085\n",
      "Epoch 1/10\n",
      "104/104 [==============================] - 8s 32ms/step - loss: 0.0242 - val_loss: 0.0033\n",
      "Epoch 2/10\n",
      "104/104 [==============================] - 2s 21ms/step - loss: 0.0035 - val_loss: 4.3353e-04\n",
      "Epoch 3/10\n",
      "104/104 [==============================] - 2s 20ms/step - loss: 0.0034 - val_loss: 3.8975e-04\n",
      "Epoch 4/10\n",
      "104/104 [==============================] - 2s 20ms/step - loss: 0.0029 - val_loss: 3.7269e-04\n",
      "Epoch 5/10\n",
      "104/104 [==============================] - 2s 20ms/step - loss: 0.0027 - val_loss: 2.8396e-04\n",
      "Epoch 6/10\n",
      "104/104 [==============================] - 2s 20ms/step - loss: 0.0026 - val_loss: 3.4401e-04\n",
      "Epoch 7/10\n",
      "104/104 [==============================] - 2s 19ms/step - loss: 0.0024 - val_loss: 1.5381e-04\n",
      "Epoch 8/10\n",
      "104/104 [==============================] - 2s 19ms/step - loss: 0.0025 - val_loss: 2.9281e-04\n",
      "Epoch 9/10\n",
      "104/104 [==============================] - 2s 19ms/step - loss: 0.0025 - val_loss: 2.9820e-04\n",
      "Epoch 10/10\n",
      "104/104 [==============================] - 2s 20ms/step - loss: 0.0022 - val_loss: 1.6867e-04\n",
      "104/104 [==============================] - 1s 7ms/step - loss: 1.7483e-04\n",
      "Epoch 1/10\n",
      "104/104 [==============================] - 7s 31ms/step - loss: 0.1042 - val_loss: 0.0118\n",
      "Epoch 2/10\n",
      "104/104 [==============================] - 2s 20ms/step - loss: 0.0941 - val_loss: 0.0099\n",
      "Epoch 3/10\n",
      "104/104 [==============================] - 2s 21ms/step - loss: 0.0807 - val_loss: 0.0082\n",
      "Epoch 4/10\n",
      "104/104 [==============================] - 2s 22ms/step - loss: 0.0706 - val_loss: 0.0066\n",
      "Epoch 5/10\n",
      "104/104 [==============================] - 2s 22ms/step - loss: 0.0613 - val_loss: 0.0051\n",
      "Epoch 6/10\n",
      "104/104 [==============================] - 2s 21ms/step - loss: 0.0523 - val_loss: 0.0039\n",
      "Epoch 7/10\n",
      "104/104 [==============================] - 2s 20ms/step - loss: 0.0434 - val_loss: 0.0029\n",
      "Epoch 8/10\n",
      "104/104 [==============================] - 2s 20ms/step - loss: 0.0357 - val_loss: 0.0021\n",
      "Epoch 9/10\n",
      "104/104 [==============================] - 2s 21ms/step - loss: 0.0285 - val_loss: 0.0015\n",
      "Epoch 10/10\n",
      "104/104 [==============================] - 2s 21ms/step - loss: 0.0233 - val_loss: 0.0011\n",
      "104/104 [==============================] - 1s 8ms/step - loss: 0.0902\n",
      "Epoch 1/10\n",
      "104/104 [==============================] - 9s 34ms/step - loss: 0.3274 - val_loss: 0.0168\n",
      "Epoch 2/10\n",
      "104/104 [==============================] - 2s 21ms/step - loss: 0.2988 - val_loss: 0.0146\n",
      "Epoch 3/10\n",
      "104/104 [==============================] - 2s 22ms/step - loss: 0.2693 - val_loss: 0.0125\n",
      "Epoch 4/10\n",
      "104/104 [==============================] - 2s 22ms/step - loss: 0.2401 - val_loss: 0.0104\n",
      "Epoch 5/10\n",
      "104/104 [==============================] - 2s 20ms/step - loss: 0.2149 - val_loss: 0.0085\n",
      "Epoch 6/10\n",
      "104/104 [==============================] - 2s 20ms/step - loss: 0.1856 - val_loss: 0.0067\n",
      "Epoch 7/10\n",
      "104/104 [==============================] - 2s 20ms/step - loss: 0.1634 - val_loss: 0.0051\n",
      "Epoch 8/10\n",
      "104/104 [==============================] - 2s 20ms/step - loss: 0.1396 - val_loss: 0.0038\n",
      "Epoch 9/10\n",
      "104/104 [==============================] - 2s 20ms/step - loss: 0.1132 - val_loss: 0.0027\n",
      "Epoch 10/10\n",
      "104/104 [==============================] - 2s 20ms/step - loss: 0.0943 - val_loss: 0.0018\n",
      "104/104 [==============================] - 1s 7ms/step - loss: 0.0235\n",
      "Epoch 1/8\n",
      "207/207 [==============================] - 9s 23ms/step - loss: 0.0075 - val_loss: 3.0757e-04\n",
      "Epoch 2/8\n",
      "207/207 [==============================] - 4s 17ms/step - loss: 0.0019 - val_loss: 3.9056e-04\n",
      "Epoch 3/8\n",
      "207/207 [==============================] - 4s 19ms/step - loss: 0.0017 - val_loss: 2.3624e-04\n",
      "Epoch 4/8\n",
      "207/207 [==============================] - 4s 18ms/step - loss: 0.0015 - val_loss: 3.7783e-04\n",
      "Epoch 5/8\n",
      "207/207 [==============================] - 4s 19ms/step - loss: 0.0014 - val_loss: 1.4772e-04\n",
      "Epoch 6/8\n",
      "207/207 [==============================] - 4s 18ms/step - loss: 0.0013 - val_loss: 1.2945e-04\n",
      "Epoch 7/8\n",
      "207/207 [==============================] - 4s 19ms/step - loss: 0.0012 - val_loss: 1.1955e-04\n",
      "Epoch 8/8\n",
      "207/207 [==============================] - 4s 19ms/step - loss: 0.0011 - val_loss: 1.5174e-04\n"
     ]
    }
   ],
   "source": [
    "grid_search = grid_search.fit(trainX,trainY)"
   ]
  },
  {
   "cell_type": "code",
   "execution_count": 30,
   "id": "a9e26e10",
   "metadata": {},
   "outputs": [
    {
     "data": {
      "text/plain": [
       "{'batch_size': 20, 'epochs': 8, 'optimizer': 'adam'}"
      ]
     },
     "execution_count": 30,
     "metadata": {},
     "output_type": "execute_result"
    }
   ],
   "source": [
    "grid_search.best_params_"
   ]
  },
  {
   "cell_type": "code",
   "execution_count": 31,
   "id": "d6851ffc",
   "metadata": {},
   "outputs": [],
   "source": [
    "my_model=grid_search.best_estimator_.model"
   ]
  },
  {
   "cell_type": "code",
   "execution_count": 32,
   "id": "9f0b2e50",
   "metadata": {},
   "outputs": [
    {
     "data": {
      "text/plain": [
       "<keras.engine.sequential.Sequential at 0x21d52fb4c40>"
      ]
     },
     "execution_count": 32,
     "metadata": {},
     "output_type": "execute_result"
    }
   ],
   "source": [
    "my_model"
   ]
  },
  {
   "cell_type": "code",
   "execution_count": 33,
   "id": "eeb97d64",
   "metadata": {},
   "outputs": [
    {
     "name": "stdout",
     "output_type": "stream",
     "text": [
      "32/32 [==============================] - 1s 6ms/step\n"
     ]
    }
   ],
   "source": [
    "prediction=my_model.predict(testX)"
   ]
  },
  {
   "cell_type": "code",
   "execution_count": 34,
   "id": "8699c0d3",
   "metadata": {},
   "outputs": [
    {
     "name": "stdout",
     "output_type": "stream",
     "text": [
      "prediction\n",
      " [[0.37194335]\n",
      " [0.37510714]\n",
      " [0.37799764]\n",
      " ...\n",
      " [0.13978508]\n",
      " [0.14180689]\n",
      " [0.14426985]]\n",
      "\n",
      "Prediction Shape- (1011, 1)\n"
     ]
    }
   ],
   "source": [
    "print(\"prediction\\n\", prediction)\n",
    "print(\"\\nPrediction Shape-\",prediction.shape)"
   ]
  },
  {
   "cell_type": "code",
   "execution_count": 35,
   "id": "2be6090a",
   "metadata": {},
   "outputs": [
    {
     "data": {
      "text/plain": [
       "(1011, 1)"
      ]
     },
     "execution_count": 35,
     "metadata": {},
     "output_type": "execute_result"
    }
   ],
   "source": [
    "prediction.shape"
   ]
  },
  {
   "cell_type": "code",
   "execution_count": 36,
   "id": "3af2602d",
   "metadata": {},
   "outputs": [],
   "source": [
    "prediction_copies_array = np.repeat(prediction,5, axis=-1)\n"
   ]
  },
  {
   "cell_type": "code",
   "execution_count": 37,
   "id": "1dbd500f",
   "metadata": {},
   "outputs": [
    {
     "data": {
      "text/plain": [
       "(1011, 5)"
      ]
     },
     "execution_count": 37,
     "metadata": {},
     "output_type": "execute_result"
    }
   ],
   "source": [
    "prediction_copies_array.shape"
   ]
  },
  {
   "cell_type": "code",
   "execution_count": 38,
   "id": "3b00bd6e",
   "metadata": {},
   "outputs": [
    {
     "data": {
      "text/plain": [
       "array([[0.37194335, 0.37194335, 0.37194335, 0.37194335, 0.37194335],\n",
       "       [0.37510714, 0.37510714, 0.37510714, 0.37510714, 0.37510714],\n",
       "       [0.37799764, 0.37799764, 0.37799764, 0.37799764, 0.37799764],\n",
       "       ...,\n",
       "       [0.13978508, 0.13978508, 0.13978508, 0.13978508, 0.13978508],\n",
       "       [0.14180689, 0.14180689, 0.14180689, 0.14180689, 0.14180689],\n",
       "       [0.14426985, 0.14426985, 0.14426985, 0.14426985, 0.14426985]],\n",
       "      dtype=float32)"
      ]
     },
     "execution_count": 38,
     "metadata": {},
     "output_type": "execute_result"
    }
   ],
   "source": [
    "prediction_copies_array"
   ]
  },
  {
   "cell_type": "code",
   "execution_count": 39,
   "id": "84f2780a",
   "metadata": {},
   "outputs": [],
   "source": [
    "pred=scaler.inverse_transform(np.reshape(prediction_copies_array,(len(prediction),5)))[:,0]"
   ]
  },
  {
   "cell_type": "code",
   "execution_count": 40,
   "id": "2c86afce",
   "metadata": {},
   "outputs": [
    {
     "data": {
      "text/plain": [
       "array([184.67825 , 185.80746 , 186.83916 , ..., 101.8156  , 102.537224,\n",
       "       103.41632 ], dtype=float32)"
      ]
     },
     "execution_count": 40,
     "metadata": {},
     "output_type": "execute_result"
    }
   ],
   "source": [
    "pred"
   ]
  },
  {
   "cell_type": "code",
   "execution_count": 41,
   "id": "4ec05dff",
   "metadata": {},
   "outputs": [],
   "source": [
    "original_copies_array = np.repeat(testY,5, axis=-1)\n",
    "\n",
    "original_copies_array.shape\n",
    "\n",
    "original=scaler.inverse_transform(np.reshape(original_copies_array,(len(testY),5)))[:,0]"
   ]
  },
  {
   "cell_type": "code",
   "execution_count": 42,
   "id": "cecfd7bf",
   "metadata": {},
   "outputs": [
    {
     "name": "stdout",
     "output_type": "stream",
     "text": [
      "Pred Values--  [184.67825  185.80746  186.83916  ... 101.8156   102.537224 103.41632 ]\n",
      "\n",
      "Original Values--  [191.692307 193.461533 192.307693 ... 104.550003 105.290001 106.      ]\n"
     ]
    }
   ],
   "source": [
    "print(\"Pred Values-- \" ,pred)\n",
    "print(\"\\nOriginal Values-- \",original)"
   ]
  },
  {
   "cell_type": "code",
   "execution_count": 43,
   "id": "07e37414",
   "metadata": {},
   "outputs": [],
   "source": [
    "import matplotlib.pyplot as plt"
   ]
  },
  {
   "cell_type": "code",
   "execution_count": 44,
   "id": "bfa9b94b",
   "metadata": {},
   "outputs": [
    {
     "data": {
      "image/png": "[encoded data removed]",
      "text/plain": [
       "<Figure size 640x480 with 1 Axes>"
      ]
     },
     "metadata": {},
     "output_type": "display_data"
    }
   ],
   "source": [
    "plt.plot(original, color = 'red', label = 'Real  Stock Price')\n",
    "plt.plot(pred, color = 'blue', label = 'Predicted  Stock Price')\n",
    "plt.title(' Stock Price Prediction')\n",
    "plt.xlabel('Time')\n",
    "plt.ylabel(' Stock Price')\n",
    "plt.legend()\n",
    "plt.show()"
   ]
  },
  {
   "cell_type": "code",
   "execution_count": null,
   "id": "441ddb80",
   "metadata": {},
   "outputs": [],
   "source": []
  },
  {
   "cell_type": "code",
   "execution_count": 45,
   "id": "3a095e22",
   "metadata": {},
   "outputs": [],
   "source": [
    "df_30_days_past=df.iloc[-30:,:]"
   ]
  },
  {
   "cell_type": "code",
   "execution_count": 46,
   "id": "451dafea",
   "metadata": {},
   "outputs": [
    {
     "data": {
      "text/html": [
       "<div>\n",
       "<style scoped>\n",
       "    .dataframe tbody tr th:only-of-type {\n",
       "        vertical-align: middle;\n",
       "    }\n",
       "\n",
       "    .dataframe tbody tr th {\n",
       "        vertical-align: top;\n",
       "    }\n",
       "\n",
       "    .dataframe thead th {\n",
       "        text-align: right;\n",
       "    }\n",
       "</style>\n",
       "<table border=\"1\" class=\"dataframe\">\n",
       "  <thead>\n",
       "    <tr style=\"text-align: right;\">\n",
       "      <th></th>\n",
       "      <th>Open</th>\n",
       "      <th>High</th>\n",
       "      <th>Low</th>\n",
       "      <th>Close</th>\n",
       "      <th>Adj Close</th>\n",
       "    </tr>\n",
       "    <tr>\n",
       "      <th>Date</th>\n",
       "      <th></th>\n",
       "      <th></th>\n",
       "      <th></th>\n",
       "      <th></th>\n",
       "      <th></th>\n",
       "    </tr>\n",
       "  </thead>\n",
       "  <tbody>\n",
       "    <tr>\n",
       "      <th>2021-08-18</th>\n",
       "      <td>101.080002</td>\n",
       "      <td>103.470001</td>\n",
       "      <td>100.760002</td>\n",
       "      <td>101.410004</td>\n",
       "      <td>101.242561</td>\n",
       "    </tr>\n",
       "    <tr>\n",
       "      <th>2021-08-19</th>\n",
       "      <td>100.000000</td>\n",
       "      <td>100.820000</td>\n",
       "      <td>98.599998</td>\n",
       "      <td>99.419998</td>\n",
       "      <td>99.255844</td>\n",
       "    </tr>\n",
       "    <tr>\n",
       "      <th>2021-08-20</th>\n",
       "      <td>99.589996</td>\n",
       "      <td>100.669998</td>\n",
       "      <td>99.099998</td>\n",
       "      <td>100.050003</td>\n",
       "      <td>99.884804</td>\n",
       "    </tr>\n",
       "    <tr>\n",
       "      <th>2021-08-23</th>\n",
       "      <td>100.599998</td>\n",
       "      <td>101.480003</td>\n",
       "      <td>100.269997</td>\n",
       "      <td>100.970001</td>\n",
       "      <td>100.803284</td>\n",
       "    </tr>\n",
       "    <tr>\n",
       "      <th>2021-08-24</th>\n",
       "      <td>101.290001</td>\n",
       "      <td>103.510002</td>\n",
       "      <td>101.059998</td>\n",
       "      <td>103.269997</td>\n",
       "      <td>103.099487</td>\n",
       "    </tr>\n",
       "    <tr>\n",
       "      <th>2021-08-25</th>\n",
       "      <td>103.360001</td>\n",
       "      <td>105.129997</td>\n",
       "      <td>102.550003</td>\n",
       "      <td>104.699997</td>\n",
       "      <td>104.527122</td>\n",
       "    </tr>\n",
       "    <tr>\n",
       "      <th>2021-08-26</th>\n",
       "      <td>104.459999</td>\n",
       "      <td>104.620003</td>\n",
       "      <td>102.839996</td>\n",
       "      <td>103.379997</td>\n",
       "      <td>103.209305</td>\n",
       "    </tr>\n",
       "    <tr>\n",
       "      <th>2021-08-27</th>\n",
       "      <td>103.900002</td>\n",
       "      <td>106.150002</td>\n",
       "      <td>103.900002</td>\n",
       "      <td>106.089996</td>\n",
       "      <td>105.914825</td>\n",
       "    </tr>\n",
       "    <tr>\n",
       "      <th>2021-08-30</th>\n",
       "      <td>106.330002</td>\n",
       "      <td>106.459999</td>\n",
       "      <td>104.800003</td>\n",
       "      <td>105.190002</td>\n",
       "      <td>105.016312</td>\n",
       "    </tr>\n",
       "    <tr>\n",
       "      <th>2021-08-31</th>\n",
       "      <td>104.940002</td>\n",
       "      <td>106.360001</td>\n",
       "      <td>104.459999</td>\n",
       "      <td>105.410004</td>\n",
       "      <td>105.235954</td>\n",
       "    </tr>\n",
       "    <tr>\n",
       "      <th>2021-09-01</th>\n",
       "      <td>105.360001</td>\n",
       "      <td>105.470001</td>\n",
       "      <td>103.260002</td>\n",
       "      <td>103.660004</td>\n",
       "      <td>103.488846</td>\n",
       "    </tr>\n",
       "    <tr>\n",
       "      <th>2021-09-02</th>\n",
       "      <td>104.000000</td>\n",
       "      <td>106.339996</td>\n",
       "      <td>103.980003</td>\n",
       "      <td>106.260002</td>\n",
       "      <td>106.084557</td>\n",
       "    </tr>\n",
       "    <tr>\n",
       "      <th>2021-09-03</th>\n",
       "      <td>106.000000</td>\n",
       "      <td>107.360001</td>\n",
       "      <td>104.080002</td>\n",
       "      <td>104.750000</td>\n",
       "      <td>104.577042</td>\n",
       "    </tr>\n",
       "    <tr>\n",
       "      <th>2021-09-07</th>\n",
       "      <td>104.500000</td>\n",
       "      <td>104.940002</td>\n",
       "      <td>102.309998</td>\n",
       "      <td>103.290001</td>\n",
       "      <td>103.119453</td>\n",
       "    </tr>\n",
       "    <tr>\n",
       "      <th>2021-09-08</th>\n",
       "      <td>102.949997</td>\n",
       "      <td>104.730003</td>\n",
       "      <td>100.419998</td>\n",
       "      <td>102.580002</td>\n",
       "      <td>102.410629</td>\n",
       "    </tr>\n",
       "    <tr>\n",
       "      <th>2021-09-09</th>\n",
       "      <td>102.360001</td>\n",
       "      <td>104.919998</td>\n",
       "      <td>102.110001</td>\n",
       "      <td>103.290001</td>\n",
       "      <td>103.119453</td>\n",
       "    </tr>\n",
       "    <tr>\n",
       "      <th>2021-09-10</th>\n",
       "      <td>103.290001</td>\n",
       "      <td>103.949997</td>\n",
       "      <td>101.779999</td>\n",
       "      <td>102.000000</td>\n",
       "      <td>101.831581</td>\n",
       "    </tr>\n",
       "    <tr>\n",
       "      <th>2021-09-13</th>\n",
       "      <td>102.650002</td>\n",
       "      <td>104.860001</td>\n",
       "      <td>102.019997</td>\n",
       "      <td>104.459999</td>\n",
       "      <td>104.287521</td>\n",
       "    </tr>\n",
       "    <tr>\n",
       "      <th>2021-09-14</th>\n",
       "      <td>104.540001</td>\n",
       "      <td>104.550003</td>\n",
       "      <td>100.070000</td>\n",
       "      <td>100.379997</td>\n",
       "      <td>100.214256</td>\n",
       "    </tr>\n",
       "    <tr>\n",
       "      <th>2021-09-15</th>\n",
       "      <td>100.790001</td>\n",
       "      <td>102.470001</td>\n",
       "      <td>100.690002</td>\n",
       "      <td>102.160004</td>\n",
       "      <td>101.991325</td>\n",
       "    </tr>\n",
       "    <tr>\n",
       "      <th>2021-09-16</th>\n",
       "      <td>102.389999</td>\n",
       "      <td>102.699997</td>\n",
       "      <td>100.820000</td>\n",
       "      <td>101.339996</td>\n",
       "      <td>101.172668</td>\n",
       "    </tr>\n",
       "    <tr>\n",
       "      <th>2021-09-17</th>\n",
       "      <td>101.150002</td>\n",
       "      <td>101.860001</td>\n",
       "      <td>100.129997</td>\n",
       "      <td>100.470001</td>\n",
       "      <td>100.304115</td>\n",
       "    </tr>\n",
       "    <tr>\n",
       "      <th>2021-09-20</th>\n",
       "      <td>98.500000</td>\n",
       "      <td>99.870003</td>\n",
       "      <td>97.269997</td>\n",
       "      <td>99.809998</td>\n",
       "      <td>99.645195</td>\n",
       "    </tr>\n",
       "    <tr>\n",
       "      <th>2021-09-21</th>\n",
       "      <td>99.900002</td>\n",
       "      <td>99.989998</td>\n",
       "      <td>96.209999</td>\n",
       "      <td>96.820000</td>\n",
       "      <td>96.660133</td>\n",
       "    </tr>\n",
       "    <tr>\n",
       "      <th>2021-09-22</th>\n",
       "      <td>97.669998</td>\n",
       "      <td>99.029999</td>\n",
       "      <td>97.660004</td>\n",
       "      <td>98.540001</td>\n",
       "      <td>98.377296</td>\n",
       "    </tr>\n",
       "    <tr>\n",
       "      <th>2021-09-23</th>\n",
       "      <td>99.529999</td>\n",
       "      <td>104.080002</td>\n",
       "      <td>99.519997</td>\n",
       "      <td>102.959999</td>\n",
       "      <td>102.789993</td>\n",
       "    </tr>\n",
       "    <tr>\n",
       "      <th>2021-09-24</th>\n",
       "      <td>102.660004</td>\n",
       "      <td>104.199997</td>\n",
       "      <td>102.599998</td>\n",
       "      <td>103.800003</td>\n",
       "      <td>103.709198</td>\n",
       "    </tr>\n",
       "    <tr>\n",
       "      <th>2021-09-27</th>\n",
       "      <td>104.550003</td>\n",
       "      <td>106.330002</td>\n",
       "      <td>104.389999</td>\n",
       "      <td>105.349998</td>\n",
       "      <td>105.257835</td>\n",
       "    </tr>\n",
       "    <tr>\n",
       "      <th>2021-09-28</th>\n",
       "      <td>105.290001</td>\n",
       "      <td>106.750000</td>\n",
       "      <td>104.730003</td>\n",
       "      <td>105.730003</td>\n",
       "      <td>105.637512</td>\n",
       "    </tr>\n",
       "    <tr>\n",
       "      <th>2021-09-29</th>\n",
       "      <td>106.000000</td>\n",
       "      <td>107.000000</td>\n",
       "      <td>105.309998</td>\n",
       "      <td>106.279999</td>\n",
       "      <td>106.187027</td>\n",
       "    </tr>\n",
       "  </tbody>\n",
       "</table>\n",
       "</div>"
      ],
      "text/plain": [
       "                  Open        High         Low       Close   Adj Close\n",
       "Date                                                                  \n",
       "2021-08-18  101.080002  103.470001  100.760002  101.410004  101.242561\n",
       "2021-08-19  100.000000  100.820000   98.599998   99.419998   99.255844\n",
       "2021-08-20   99.589996  100.669998   99.099998  100.050003   99.884804\n",
       "2021-08-23  100.599998  101.480003  100.269997  100.970001  100.803284\n",
       "2021-08-24  101.290001  103.510002  101.059998  103.269997  103.099487\n",
       "2021-08-25  103.360001  105.129997  102.550003  104.699997  104.527122\n",
       "2021-08-26  104.459999  104.620003  102.839996  103.379997  103.209305\n",
       "2021-08-27  103.900002  106.150002  103.900002  106.089996  105.914825\n",
       "2021-08-30  106.330002  106.459999  104.800003  105.190002  105.016312\n",
       "2021-08-31  104.940002  106.360001  104.459999  105.410004  105.235954\n",
       "2021-09-01  105.360001  105.470001  103.260002  103.660004  103.488846\n",
       "2021-09-02  104.000000  106.339996  103.980003  106.260002  106.084557\n",
       "2021-09-03  106.000000  107.360001  104.080002  104.750000  104.577042\n",
       "2021-09-07  104.500000  104.940002  102.309998  103.290001  103.119453\n",
       "2021-09-08  102.949997  104.730003  100.419998  102.580002  102.410629\n",
       "2021-09-09  102.360001  104.919998  102.110001  103.290001  103.119453\n",
       "2021-09-10  103.290001  103.949997  101.779999  102.000000  101.831581\n",
       "2021-09-13  102.650002  104.860001  102.019997  104.459999  104.287521\n",
       "2021-09-14  104.540001  104.550003  100.070000  100.379997  100.214256\n",
       "2021-09-15  100.790001  102.470001  100.690002  102.160004  101.991325\n",
       "2021-09-16  102.389999  102.699997  100.820000  101.339996  101.172668\n",
       "2021-09-17  101.150002  101.860001  100.129997  100.470001  100.304115\n",
       "2021-09-20   98.500000   99.870003   97.269997   99.809998   99.645195\n",
       "2021-09-21   99.900002   99.989998   96.209999   96.820000   96.660133\n",
       "2021-09-22   97.669998   99.029999   97.660004   98.540001   98.377296\n",
       "2021-09-23   99.529999  104.080002   99.519997  102.959999  102.789993\n",
       "2021-09-24  102.660004  104.199997  102.599998  103.800003  103.709198\n",
       "2021-09-27  104.550003  106.330002  104.389999  105.349998  105.257835\n",
       "2021-09-28  105.290001  106.750000  104.730003  105.730003  105.637512\n",
       "2021-09-29  106.000000  107.000000  105.309998  106.279999  106.187027"
      ]
     },
     "execution_count": 46,
     "metadata": {},
     "output_type": "execute_result"
    }
   ],
   "source": [
    "df_30_days_past"
   ]
  },
  {
   "cell_type": "code",
   "execution_count": 47,
   "id": "92497be0",
   "metadata": {},
   "outputs": [
    {
     "data": {
      "text/plain": [
       "(30, 4)"
      ]
     },
     "execution_count": 47,
     "metadata": {},
     "output_type": "execute_result"
    }
   ],
   "source": [
    "df_30_days_future=pd.read_csv(\"test.csv\",parse_dates=[\"Date\"],index_col=[0])\n",
    "df_30_days_future.shape"
   ]
  },
  {
   "cell_type": "code",
   "execution_count": 77,
   "id": "7004371c",
   "metadata": {},
   "outputs": [
    {
     "data": {
      "text/html": [
       "<div>\n",
       "<style scoped>\n",
       "    .dataframe tbody tr th:only-of-type {\n",
       "        vertical-align: middle;\n",
       "    }\n",
       "\n",
       "    .dataframe tbody tr th {\n",
       "        vertical-align: top;\n",
       "    }\n",
       "\n",
       "    .dataframe thead th {\n",
       "        text-align: right;\n",
       "    }\n",
       "</style>\n",
       "<table border=\"1\" class=\"dataframe\">\n",
       "  <thead>\n",
       "    <tr style=\"text-align: right;\">\n",
       "      <th></th>\n",
       "      <th>Open</th>\n",
       "      <th>High</th>\n",
       "      <th>Low</th>\n",
       "      <th>Close</th>\n",
       "      <th>Adj Close</th>\n",
       "    </tr>\n",
       "    <tr>\n",
       "      <th>Date</th>\n",
       "      <th></th>\n",
       "      <th></th>\n",
       "      <th></th>\n",
       "      <th></th>\n",
       "      <th></th>\n",
       "    </tr>\n",
       "  </thead>\n",
       "  <tbody>\n",
       "    <tr>\n",
       "      <th>2021-09-30</th>\n",
       "      <td>0</td>\n",
       "      <td>107.089996</td>\n",
       "      <td>102.949997</td>\n",
       "      <td>103.029999</td>\n",
       "      <td>102.939865</td>\n",
       "    </tr>\n",
       "    <tr>\n",
       "      <th>2021-10-01</th>\n",
       "      <td>0</td>\n",
       "      <td>106.389999</td>\n",
       "      <td>103.669998</td>\n",
       "      <td>105.820000</td>\n",
       "      <td>105.727425</td>\n",
       "    </tr>\n",
       "    <tr>\n",
       "      <th>2021-10-04</th>\n",
       "      <td>0</td>\n",
       "      <td>107.080002</td>\n",
       "      <td>104.599998</td>\n",
       "      <td>104.900002</td>\n",
       "      <td>104.808235</td>\n",
       "    </tr>\n",
       "    <tr>\n",
       "      <th>2021-10-05</th>\n",
       "      <td>0</td>\n",
       "      <td>106.000000</td>\n",
       "      <td>103.750000</td>\n",
       "      <td>104.900002</td>\n",
       "      <td>104.808235</td>\n",
       "    </tr>\n",
       "    <tr>\n",
       "      <th>2021-10-06</th>\n",
       "      <td>0</td>\n",
       "      <td>104.419998</td>\n",
       "      <td>102.059998</td>\n",
       "      <td>104.330002</td>\n",
       "      <td>104.238731</td>\n",
       "    </tr>\n",
       "    <tr>\n",
       "      <th>2021-10-07</th>\n",
       "      <td>0</td>\n",
       "      <td>106.529999</td>\n",
       "      <td>104.330002</td>\n",
       "      <td>105.510002</td>\n",
       "      <td>105.417702</td>\n",
       "    </tr>\n",
       "    <tr>\n",
       "      <th>2021-10-08</th>\n",
       "      <td>0</td>\n",
       "      <td>106.220001</td>\n",
       "      <td>104.660004</td>\n",
       "      <td>104.720001</td>\n",
       "      <td>104.628387</td>\n",
       "    </tr>\n",
       "    <tr>\n",
       "      <th>2021-10-11</th>\n",
       "      <td>0</td>\n",
       "      <td>105.760002</td>\n",
       "      <td>103.970001</td>\n",
       "      <td>104.080002</td>\n",
       "      <td>103.988953</td>\n",
       "    </tr>\n",
       "    <tr>\n",
       "      <th>2021-10-12</th>\n",
       "      <td>0</td>\n",
       "      <td>104.040001</td>\n",
       "      <td>101.559998</td>\n",
       "      <td>102.720001</td>\n",
       "      <td>102.630142</td>\n",
       "    </tr>\n",
       "    <tr>\n",
       "      <th>2021-10-13</th>\n",
       "      <td>0</td>\n",
       "      <td>103.199997</td>\n",
       "      <td>101.180000</td>\n",
       "      <td>102.360001</td>\n",
       "      <td>102.270454</td>\n",
       "    </tr>\n",
       "    <tr>\n",
       "      <th>2021-10-14</th>\n",
       "      <td>0</td>\n",
       "      <td>103.650002</td>\n",
       "      <td>102.370003</td>\n",
       "      <td>102.739998</td>\n",
       "      <td>102.650116</td>\n",
       "    </tr>\n",
       "    <tr>\n",
       "      <th>2021-10-15</th>\n",
       "      <td>0</td>\n",
       "      <td>105.900002</td>\n",
       "      <td>103.190002</td>\n",
       "      <td>104.410004</td>\n",
       "      <td>104.318665</td>\n",
       "    </tr>\n",
       "    <tr>\n",
       "      <th>2021-10-18</th>\n",
       "      <td>0</td>\n",
       "      <td>104.570000</td>\n",
       "      <td>103.040001</td>\n",
       "      <td>104.120003</td>\n",
       "      <td>104.028915</td>\n",
       "    </tr>\n",
       "    <tr>\n",
       "      <th>2021-10-19</th>\n",
       "      <td>0</td>\n",
       "      <td>104.970001</td>\n",
       "      <td>103.580002</td>\n",
       "      <td>104.730003</td>\n",
       "      <td>104.638382</td>\n",
       "    </tr>\n",
       "    <tr>\n",
       "      <th>2021-10-20</th>\n",
       "      <td>0</td>\n",
       "      <td>106.019997</td>\n",
       "      <td>103.870003</td>\n",
       "      <td>106.000000</td>\n",
       "      <td>105.907272</td>\n",
       "    </tr>\n",
       "    <tr>\n",
       "      <th>2021-10-21</th>\n",
       "      <td>0</td>\n",
       "      <td>106.389999</td>\n",
       "      <td>103.010002</td>\n",
       "      <td>103.150002</td>\n",
       "      <td>103.059761</td>\n",
       "    </tr>\n",
       "    <tr>\n",
       "      <th>2021-10-22</th>\n",
       "      <td>0</td>\n",
       "      <td>104.510002</td>\n",
       "      <td>102.550003</td>\n",
       "      <td>104.050003</td>\n",
       "      <td>103.958977</td>\n",
       "    </tr>\n",
       "    <tr>\n",
       "      <th>2021-10-25</th>\n",
       "      <td>0</td>\n",
       "      <td>105.989998</td>\n",
       "      <td>103.330002</td>\n",
       "      <td>105.300003</td>\n",
       "      <td>105.207886</td>\n",
       "    </tr>\n",
       "    <tr>\n",
       "      <th>2021-10-26</th>\n",
       "      <td>0</td>\n",
       "      <td>110.970001</td>\n",
       "      <td>105.220001</td>\n",
       "      <td>107.440002</td>\n",
       "      <td>107.346008</td>\n",
       "    </tr>\n",
       "    <tr>\n",
       "      <th>2021-10-27</th>\n",
       "      <td>0</td>\n",
       "      <td>108.279999</td>\n",
       "      <td>103.690002</td>\n",
       "      <td>103.849998</td>\n",
       "      <td>103.759148</td>\n",
       "    </tr>\n",
       "    <tr>\n",
       "      <th>2021-10-28</th>\n",
       "      <td>0</td>\n",
       "      <td>105.379997</td>\n",
       "      <td>103.099998</td>\n",
       "      <td>105.260002</td>\n",
       "      <td>105.167915</td>\n",
       "    </tr>\n",
       "    <tr>\n",
       "      <th>2021-10-29</th>\n",
       "      <td>0</td>\n",
       "      <td>105.239998</td>\n",
       "      <td>104.120003</td>\n",
       "      <td>104.870003</td>\n",
       "      <td>104.778259</td>\n",
       "    </tr>\n",
       "    <tr>\n",
       "      <th>2021-11-01</th>\n",
       "      <td>0</td>\n",
       "      <td>106.769997</td>\n",
       "      <td>105.279999</td>\n",
       "      <td>106.230003</td>\n",
       "      <td>106.137070</td>\n",
       "    </tr>\n",
       "    <tr>\n",
       "      <th>2021-11-02</th>\n",
       "      <td>0</td>\n",
       "      <td>107.139999</td>\n",
       "      <td>105.300003</td>\n",
       "      <td>106.690002</td>\n",
       "      <td>106.596664</td>\n",
       "    </tr>\n",
       "    <tr>\n",
       "      <th>2021-11-03</th>\n",
       "      <td>0</td>\n",
       "      <td>106.339996</td>\n",
       "      <td>104.820000</td>\n",
       "      <td>105.970001</td>\n",
       "      <td>105.877296</td>\n",
       "    </tr>\n",
       "    <tr>\n",
       "      <th>2021-11-04</th>\n",
       "      <td>0</td>\n",
       "      <td>106.400002</td>\n",
       "      <td>104.290001</td>\n",
       "      <td>105.209999</td>\n",
       "      <td>105.117958</td>\n",
       "    </tr>\n",
       "    <tr>\n",
       "      <th>2021-11-05</th>\n",
       "      <td>0</td>\n",
       "      <td>109.650002</td>\n",
       "      <td>106.849998</td>\n",
       "      <td>108.739998</td>\n",
       "      <td>108.644867</td>\n",
       "    </tr>\n",
       "    <tr>\n",
       "      <th>2021-11-08</th>\n",
       "      <td>0</td>\n",
       "      <td>110.309998</td>\n",
       "      <td>108.320000</td>\n",
       "      <td>108.419998</td>\n",
       "      <td>108.325150</td>\n",
       "    </tr>\n",
       "    <tr>\n",
       "      <th>2021-11-09</th>\n",
       "      <td>0</td>\n",
       "      <td>116.169998</td>\n",
       "      <td>110.480003</td>\n",
       "      <td>111.290001</td>\n",
       "      <td>111.192642</td>\n",
       "    </tr>\n",
       "    <tr>\n",
       "      <th>2021-11-10</th>\n",
       "      <td>0</td>\n",
       "      <td>112.680000</td>\n",
       "      <td>108.110001</td>\n",
       "      <td>108.959999</td>\n",
       "      <td>108.864677</td>\n",
       "    </tr>\n",
       "  </tbody>\n",
       "</table>\n",
       "</div>"
      ],
      "text/plain": [
       "            Open        High         Low       Close   Adj Close\n",
       "Date                                                            \n",
       "2021-09-30     0  107.089996  102.949997  103.029999  102.939865\n",
       "2021-10-01     0  106.389999  103.669998  105.820000  105.727425\n",
       "2021-10-04     0  107.080002  104.599998  104.900002  104.808235\n",
       "2021-10-05     0  106.000000  103.750000  104.900002  104.808235\n",
       "2021-10-06     0  104.419998  102.059998  104.330002  104.238731\n",
       "2021-10-07     0  106.529999  104.330002  105.510002  105.417702\n",
       "2021-10-08     0  106.220001  104.660004  104.720001  104.628387\n",
       "2021-10-11     0  105.760002  103.970001  104.080002  103.988953\n",
       "2021-10-12     0  104.040001  101.559998  102.720001  102.630142\n",
       "2021-10-13     0  103.199997  101.180000  102.360001  102.270454\n",
       "2021-10-14     0  103.650002  102.370003  102.739998  102.650116\n",
       "2021-10-15     0  105.900002  103.190002  104.410004  104.318665\n",
       "2021-10-18     0  104.570000  103.040001  104.120003  104.028915\n",
       "2021-10-19     0  104.970001  103.580002  104.730003  104.638382\n",
       "2021-10-20     0  106.019997  103.870003  106.000000  105.907272\n",
       "2021-10-21     0  106.389999  103.010002  103.150002  103.059761\n",
       "2021-10-22     0  104.510002  102.550003  104.050003  103.958977\n",
       "2021-10-25     0  105.989998  103.330002  105.300003  105.207886\n",
       "2021-10-26     0  110.970001  105.220001  107.440002  107.346008\n",
       "2021-10-27     0  108.279999  103.690002  103.849998  103.759148\n",
       "2021-10-28     0  105.379997  103.099998  105.260002  105.167915\n",
       "2021-10-29     0  105.239998  104.120003  104.870003  104.778259\n",
       "2021-11-01     0  106.769997  105.279999  106.230003  106.137070\n",
       "2021-11-02     0  107.139999  105.300003  106.690002  106.596664\n",
       "2021-11-03     0  106.339996  104.820000  105.970001  105.877296\n",
       "2021-11-04     0  106.400002  104.290001  105.209999  105.117958\n",
       "2021-11-05     0  109.650002  106.849998  108.739998  108.644867\n",
       "2021-11-08     0  110.309998  108.320000  108.419998  108.325150\n",
       "2021-11-09     0  116.169998  110.480003  111.290001  111.192642\n",
       "2021-11-10     0  112.680000  108.110001  108.959999  108.864677"
      ]
     },
     "execution_count": 77,
     "metadata": {},
     "output_type": "execute_result"
    }
   ],
   "source": [
    "df_30_days_future"
   ]
  },
  {
   "cell_type": "code",
   "execution_count": 49,
   "id": "20277ef8",
   "metadata": {},
   "outputs": [],
   "source": [
    "df_30_days_future[\"Open\"]=0\n",
    "df_30_days_future=df_30_days_future[[\"Open\",\"High\",\"Low\",\"Close\",\"Adj Close\"]]\n",
    "old_scaled_array=scaler.transform(df_30_days_past)\n",
    "new_scaled_array=scaler.transform(df_30_days_future)\n",
    "new_scaled_df=pd.DataFrame(new_scaled_array)\n",
    "new_scaled_df.iloc[:,0]=np.nan\n",
    "full_df=pd.concat([pd.DataFrame(old_scaled_array),new_scaled_df]).reset_index().drop([\"index\"],axis=1)"
   ]
  },
  {
   "cell_type": "code",
   "execution_count": 50,
   "id": "0dcb1ee5",
   "metadata": {},
   "outputs": [
    {
     "data": {
      "text/plain": [
       "(60, 5)"
      ]
     },
     "execution_count": 50,
     "metadata": {},
     "output_type": "execute_result"
    }
   ],
   "source": [
    "full_df.shape"
   ]
  },
  {
   "cell_type": "code",
   "execution_count": 51,
   "id": "88cfa224",
   "metadata": {},
   "outputs": [
    {
     "data": {
      "text/html": [
       "<div>\n",
       "<style scoped>\n",
       "    .dataframe tbody tr th:only-of-type {\n",
       "        vertical-align: middle;\n",
       "    }\n",
       "\n",
       "    .dataframe tbody tr th {\n",
       "        vertical-align: top;\n",
       "    }\n",
       "\n",
       "    .dataframe thead th {\n",
       "        text-align: right;\n",
       "    }\n",
       "</style>\n",
       "<table border=\"1\" class=\"dataframe\">\n",
       "  <thead>\n",
       "    <tr style=\"text-align: right;\">\n",
       "      <th></th>\n",
       "      <th>0</th>\n",
       "      <th>1</th>\n",
       "      <th>2</th>\n",
       "      <th>3</th>\n",
       "      <th>4</th>\n",
       "    </tr>\n",
       "  </thead>\n",
       "  <tbody>\n",
       "    <tr>\n",
       "      <th>55</th>\n",
       "      <td>NaN</td>\n",
       "      <td>0.143640</td>\n",
       "      <td>0.164162</td>\n",
       "      <td>0.150135</td>\n",
       "      <td>0.349458</td>\n",
       "    </tr>\n",
       "    <tr>\n",
       "      <th>56</th>\n",
       "      <td>NaN</td>\n",
       "      <td>0.152749</td>\n",
       "      <td>0.171268</td>\n",
       "      <td>0.159953</td>\n",
       "      <td>0.367565</td>\n",
       "    </tr>\n",
       "    <tr>\n",
       "      <th>57</th>\n",
       "      <td>NaN</td>\n",
       "      <td>0.154599</td>\n",
       "      <td>0.175349</td>\n",
       "      <td>0.159063</td>\n",
       "      <td>0.365924</td>\n",
       "    </tr>\n",
       "    <tr>\n",
       "      <th>58</th>\n",
       "      <td>NaN</td>\n",
       "      <td>0.171024</td>\n",
       "      <td>0.181345</td>\n",
       "      <td>0.167045</td>\n",
       "      <td>0.380645</td>\n",
       "    </tr>\n",
       "    <tr>\n",
       "      <th>59</th>\n",
       "      <td>NaN</td>\n",
       "      <td>0.161242</td>\n",
       "      <td>0.174766</td>\n",
       "      <td>0.160565</td>\n",
       "      <td>0.368694</td>\n",
       "    </tr>\n",
       "  </tbody>\n",
       "</table>\n",
       "</div>"
      ],
      "text/plain": [
       "     0         1         2         3         4\n",
       "55 NaN  0.143640  0.164162  0.150135  0.349458\n",
       "56 NaN  0.152749  0.171268  0.159953  0.367565\n",
       "57 NaN  0.154599  0.175349  0.159063  0.365924\n",
       "58 NaN  0.171024  0.181345  0.167045  0.380645\n",
       "59 NaN  0.161242  0.174766  0.160565  0.368694"
      ]
     },
     "execution_count": 51,
     "metadata": {},
     "output_type": "execute_result"
    }
   ],
   "source": [
    "full_df.tail()"
   ]
  },
  {
   "cell_type": "code",
   "execution_count": 52,
   "id": "e8cc462a",
   "metadata": {},
   "outputs": [
    {
     "data": {
      "text/plain": [
       "(60, 5)"
      ]
     },
     "execution_count": 52,
     "metadata": {},
     "output_type": "execute_result"
    }
   ],
   "source": [
    "full_df.shape"
   ]
  },
  {
   "cell_type": "code",
   "execution_count": 53,
   "id": "48bf070f",
   "metadata": {},
   "outputs": [],
   "source": [
    "full_df_scaled_array=full_df.values"
   ]
  },
  {
   "cell_type": "code",
   "execution_count": 66,
   "id": "91fdcf82",
   "metadata": {},
   "outputs": [
    {
     "data": {
      "text/plain": [
       "(60, 5)"
      ]
     },
     "execution_count": 66,
     "metadata": {},
     "output_type": "execute_result"
    }
   ],
   "source": [
    "full_df_scaled_array.shape\n"
   ]
  },
  {
   "cell_type": "code",
   "execution_count": 55,
   "id": "547622aa",
   "metadata": {},
   "outputs": [
    {
     "name": "stdout",
     "output_type": "stream",
     "text": [
      "1/1 [==============================] - 0s 60ms/step\n",
      "1/1 [==============================] - 0s 36ms/step\n",
      "1/1 [==============================] - 0s 51ms/step\n",
      "1/1 [==============================] - 0s 37ms/step\n",
      "1/1 [==============================] - 0s 39ms/step\n",
      "1/1 [==============================] - 0s 36ms/step\n",
      "1/1 [==============================] - 0s 36ms/step\n",
      "1/1 [==============================] - 0s 37ms/step\n",
      "1/1 [==============================] - 0s 36ms/step\n",
      "1/1 [==============================] - 0s 49ms/step\n",
      "1/1 [==============================] - 0s 34ms/step\n",
      "1/1 [==============================] - 0s 36ms/step\n",
      "1/1 [==============================] - 0s 41ms/step\n",
      "1/1 [==============================] - 0s 37ms/step\n",
      "1/1 [==============================] - 0s 35ms/step\n",
      "1/1 [==============================] - 0s 44ms/step\n",
      "1/1 [==============================] - 0s 43ms/step\n",
      "1/1 [==============================] - 0s 38ms/step\n",
      "1/1 [==============================] - 0s 42ms/step\n",
      "1/1 [==============================] - 0s 36ms/step\n",
      "1/1 [==============================] - 0s 39ms/step\n",
      "1/1 [==============================] - 0s 35ms/step\n",
      "1/1 [==============================] - 0s 35ms/step\n",
      "1/1 [==============================] - 0s 36ms/step\n",
      "1/1 [==============================] - 0s 37ms/step\n",
      "1/1 [==============================] - 0s 38ms/step\n",
      "1/1 [==============================] - 0s 39ms/step\n",
      "1/1 [==============================] - 0s 37ms/step\n",
      "1/1 [==============================] - 0s 36ms/step\n",
      "1/1 [==============================] - 0s 43ms/step\n"
     ]
    }
   ],
   "source": [
    "all_data=[]\n",
    "time_step=30\n",
    "for i in range(time_step,len(full_df_scaled_array)):\n",
    "    data_x=[]\n",
    "    data_x.append(full_df_scaled_array[i-time_step:i,0:full_df_scaled_array.shape[1]])\n",
    "    data_x=np.array(data_x)\n",
    "    prediction=my_model.predict(data_x)\n",
    "    all_data.append(prediction)\n",
    "    full_df.iloc[i,0]=prediction"
   ]
  },
  {
   "cell_type": "code",
   "execution_count": 56,
   "id": "05929d50",
   "metadata": {},
   "outputs": [
    {
     "data": {
      "text/plain": [
       "[array([[0.14683846]], dtype=float32),\n",
       " array([[0.14839338]], dtype=float32),\n",
       " array([[0.14979413]], dtype=float32),\n",
       " array([[0.15089531]], dtype=float32),\n",
       " array([[0.15162396]], dtype=float32),\n",
       " array([[0.15178314]], dtype=float32),\n",
       " array([[0.15208526]], dtype=float32),\n",
       " array([[0.15229332]], dtype=float32),\n",
       " array([[0.15226121]], dtype=float32),\n",
       " array([[0.1516338]], dtype=float32),\n",
       " array([[0.15063745]], dtype=float32),\n",
       " array([[0.14971629]], dtype=float32),\n",
       " array([[0.14937744]], dtype=float32),\n",
       " array([[0.14923255]], dtype=float32),\n",
       " array([[0.14935541]], dtype=float32),\n",
       " array([[0.14988263]], dtype=float32),\n",
       " array([[0.15004274]], dtype=float32),\n",
       " array([[0.15004884]], dtype=float32),\n",
       " array([[0.15030232]], dtype=float32),\n",
       " array([[0.15140396]], dtype=float32),\n",
       " array([[0.15198362]], dtype=float32),\n",
       " array([[0.15230855]], dtype=float32),\n",
       " array([[0.1524392]], dtype=float32),\n",
       " array([[0.15283966]], dtype=float32),\n",
       " array([[0.153424]], dtype=float32),\n",
       " array([[0.15383674]], dtype=float32),\n",
       " array([[0.15396187]], dtype=float32),\n",
       " array([[0.15486962]], dtype=float32),\n",
       " array([[0.15614489]], dtype=float32),\n",
       " array([[0.15843755]], dtype=float32)]"
      ]
     },
     "execution_count": 56,
     "metadata": {},
     "output_type": "execute_result"
    }
   ],
   "source": [
    "all_data"
   ]
  },
  {
   "cell_type": "code",
   "execution_count": 70,
   "id": "379cf40a",
   "metadata": {},
   "outputs": [],
   "source": [
    "new_array=np.array(all_data)\n",
    "new_array=new_array.reshape(-1,1)\n",
    "prediction_copies_array = np.repeat(new_array,5, axis=-1)\n",
    "y_pred_future_30_days = scaler.inverse_transform(np.reshape(prediction_copies_array,(len(new_array),5)))[:,0]"
   ]
  },
  {
   "cell_type": "code",
   "execution_count": 58,
   "id": "4ab9307c",
   "metadata": {
    "scrolled": true
   },
   "outputs": [
    {
     "data": {
      "text/plain": [
       "array([104.333115, 104.88809 , 105.38806 , 105.78109 , 106.04117 ,\n",
       "       106.097984, 106.20581 , 106.28008 , 106.268616, 106.04468 ,\n",
       "       105.68906 , 105.360275, 105.239334, 105.187614, 105.23147 ,\n",
       "       105.41964 , 105.4768  , 105.478966, 105.56944 , 105.96265 ,\n",
       "       106.16954 , 106.285515, 106.332146, 106.47508 , 106.68364 ,\n",
       "       106.830956, 106.87562 , 107.199615, 107.65479 , 108.4731  ],\n",
       "      dtype=float32)"
      ]
     },
     "execution_count": 58,
     "metadata": {},
     "output_type": "execute_result"
    }
   ],
   "source": [
    "y_pred_future_30_days"
   ]
  },
  {
   "cell_type": "code",
   "execution_count": 88,
   "id": "f33ebac9",
   "metadata": {},
   "outputs": [
    {
     "data": {
      "text/plain": [
       "[102.939865,\n",
       " 105.727425,\n",
       " 104.808235,\n",
       " 104.808235,\n",
       " 104.238731,\n",
       " 105.417702,\n",
       " 104.628387,\n",
       " 103.988953,\n",
       " 102.630142,\n",
       " 102.270454,\n",
       " 102.650116,\n",
       " 104.318665,\n",
       " 104.028915,\n",
       " 104.638382,\n",
       " 105.907272,\n",
       " 103.059761,\n",
       " 103.958977,\n",
       " 105.20788600000002,\n",
       " 107.346008,\n",
       " 103.759148,\n",
       " 105.167915,\n",
       " 104.778259,\n",
       " 106.13707,\n",
       " 106.596664,\n",
       " 105.877296,\n",
       " 105.117958,\n",
       " 108.644867,\n",
       " 108.32515,\n",
       " 111.192642,\n",
       " 108.864677]"
      ]
     },
     "execution_count": 88,
     "metadata": {},
     "output_type": "execute_result"
    }
   ],
   "source": [
    "real=[]\n",
    "for i in range(30):\n",
    "    real.append(df_30_days_future[\"Adj Close\"][i])\n",
    "real\n",
    "\n"
   ]
  },
  {
   "cell_type": "code",
   "execution_count": 89,
   "id": "9505d9d5",
   "metadata": {},
   "outputs": [
    {
     "data": {
      "image/png": "[encoded data removed]",
      "text/plain": [
       "<Figure size 640x480 with 1 Axes>"
      ]
     },
     "metadata": {},
     "output_type": "display_data"
    }
   ],
   "source": [
    "plt.plot(real , color = 'red', label = 'Real  Stock Price')\n",
    "plt.plot(y_pred_future_30_days, color = 'blue', label = 'Predicted  Stock Price')\n",
    "plt.title(' Stock Price Prediction')\n",
    "plt.xlabel('Time')\n",
    "plt.ylabel(' Stock Price')\n",
    "plt.legend()\n",
    "plt.show()"
   ]
  }
 ],
 "metadata": {
  "kernelspec": {
   "display_name": "Python 3.9.15 ('tensor')",
   "language": "python",
   "name": "python3"
  },
  "language_info": {
   "codemirror_mode": {
    "name": "ipython",
    "version": 3
   },
   "file_extension": ".py",
   "mimetype": "text/x-python",
   "name": "python",
   "nbconvert_exporter": "python",
   "pygments_lexer": "ipython3",
   "version": "3.9.15"
  },
  "vscode": {
   "interpreter": {
    "hash": "3353c53905a6873bb0e472468a83d32c03f7b0e681442e70a1d9121515f8d145"
   }
  }
 },
 "nbformat": 4,
 "nbformat_minor": 5
}
